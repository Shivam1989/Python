{
 "cells": [
  {
   "cell_type": "code",
   "execution_count": 198,
   "metadata": {
    "collapsed": false
   },
   "outputs": [
    {
     "name": "stdout",
     "output_type": "stream",
     "text": [
      "Enter the current working directory/Users/shivamgoel/Desktop/Python/midterm/Question2/\n"
     ]
    },
    {
     "data": {
      "text/plain": [
       "'/Users/shivamgoel/Desktop/Python/midterm/Question2'"
      ]
     },
     "execution_count": 198,
     "metadata": {},
     "output_type": "execute_result"
    }
   ],
   "source": [
    "import requests\n",
    "import json\n",
    "import os\n",
    "\n",
    "#dirname=os.chdir(\"/Users/shivamgoel/Desktop/Python/midterm/Question2\")\n",
    "dirname=input(\"Enter the current working directory\")\n",
    "os.chdir(dirname)# Set current working directory\n",
    "os.getcwd() # Get current working directory  \n"
   ]
  },
  {
   "cell_type": "code",
   "execution_count": 199,
   "metadata": {
    "collapsed": false
   },
   "outputs": [],
   "source": [
    "from configparser import ConfigParser\n",
    "import datetime\n",
    "config = ConfigParser()\n",
    "#config.read('settings.cfg', encoding='utf-8')\n",
    "path='config/settings.cfg'\n",
    "config_file = os.path.abspath(path)\n",
    "config.read(config_file)\n",
    "api_key = config.get('nytimes','api_key')\n"
   ]
  },
  {
   "cell_type": "code",
   "execution_count": 200,
   "metadata": {
    "collapsed": false
   },
   "outputs": [],
   "source": [
    "year = 2017\n",
    "month = 1\n",
    "\n",
    "\n",
    "for x in range(1,31):\n",
    "    dateCreate = str(x)+\"-\"+str(month)+\"-\"+str(year)\n",
    "    url = \"http://api.nytimes.com/svc/community/v3/user-content/by-date.json?&api-key=\" + str(api_key) + \"&date=\" + dateCreate\n",
    "    response = requests.get(url)\n",
    "    content  = response.json()\n",
    "    with open('wordAnalysis/user'+\"/\"+dateCreate+'.json', 'w') as file:\n",
    "        json.dump(content, file)"
   ]
  },
  {
   "cell_type": "code",
   "execution_count": 201,
   "metadata": {
    "collapsed": false
   },
   "outputs": [],
   "source": [
    "file_list=os.listdir(dirname+'/wordAnalysis/user')\n",
    "os.chdir(dirname+'/wordAnalysis/user')\n",
    "data=[]\n",
    "username=[]\n",
    "recommendationCount=[]\n",
    "location=[]\n",
    "#Looping through the list of files in folder\n",
    "for file in range(len(file_list)):\n",
    "    if(file != 0):\n",
    "        config =json.loads(open(file_list[file]).read())\n",
    "        config['results']['comments']\n",
    "        for val in range(len(config['results']['comments'])):\n",
    "            username.append(config['results']['comments'][val]['userDisplayName'])\n",
    "            recommendationCount.append(config['results']['comments'][val]['recommendationCount'])\n",
    "            location.append(config['results']['comments'][val]['userLocation'])\n"
   ]
  },
  {
   "cell_type": "markdown",
   "metadata": {},
   "source": [
    "# User who is most recommeded \n"
   ]
  },
  {
   "cell_type": "code",
   "execution_count": 185,
   "metadata": {
    "collapsed": false
   },
   "outputs": [
    {
     "name": "stdout",
     "output_type": "stream",
     "text": [
      "[('Richard Luettgen', 16), ('Susan Anderson', 13), ('David Underwood', 11), ('Ann', 9), ('Mark Thomason', 8), ('Christine McM', 6), ('Martin', 6), ('Philip S. Wenz', 6), ('Robert', 6), ('Steve', 6)]\n"
     ]
    }
   ],
   "source": [
    "usercount={}\n",
    "#Loop to find the unique words\n",
    "for word in username:\n",
    "    if word not in usercount:\n",
    "        usercount[word] = 1\n",
    "    else:\n",
    "        usercount[word] += 1\n",
    "#print (word,wordcount)\n",
    "\n",
    "#sorted is used to sort dictionary in descending order.\n",
    "sortedFrequency = sorted(usercount.items(), key=lambda x: (-x[1], x[0])) \n",
    "print(sortedFrequency[0:10])\n"
   ]
  },
  {
   "cell_type": "code",
   "execution_count": 188,
   "metadata": {
    "collapsed": false
   },
   "outputs": [],
   "source": [
    "import csv\n",
    "csv_out = open('Recommended_User.csv', 'w')\n",
    "mywriter = csv.writer(csv_out)\n",
    "\n",
    "#give the csv column headers\n",
    "mywriter.writerow([\"User Name\", \"Total Recommendation\"])\n",
    "#stitch the three lists together and write each line of the new stitched table as a row in the csv\n",
    "for row in zip(username,recommendationCount):\n",
    "\tmywriter.writerow(row)\n",
    "csv_out.close()\t"
   ]
  },
  {
   "cell_type": "code",
   "execution_count": 190,
   "metadata": {
    "collapsed": false
   },
   "outputs": [
    {
     "data": {
      "text/plain": [
       "751"
      ]
     },
     "execution_count": 190,
     "metadata": {},
     "output_type": "execute_result"
    }
   ],
   "source": [
    "with open('Recommended_User.csv') as csvfile:\n",
    "        reader = csv.reader(csvfile, delimiter=',')\n",
    "        User=[]\n",
    "        Recommendations=[]\n",
    "        \n",
    "        for row in reader:\n",
    "            User.append(row[0])\n",
    "            Recommendations.append(row[1])\n",
    "            \n",
    "len(User)"
   ]
  },
  {
   "cell_type": "code",
   "execution_count": 191,
   "metadata": {
    "collapsed": false
   },
   "outputs": [
    {
     "data": {
      "text/html": [
       "<iframe id=\"igraph\" scrolling=\"no\" style=\"border:none;\" seamless=\"seamless\" src=\"https://plot.ly/~goel.shi/27.embed\" height=\"525px\" width=\"100%\"></iframe>"
      ],
      "text/plain": [
       "<plotly.tools.PlotlyDisplay object>"
      ]
     },
     "execution_count": 191,
     "metadata": {},
     "output_type": "execute_result"
    }
   ],
   "source": [
    "import plotly.plotly as py\n",
    "import plotly.graph_objs as go\n",
    "import ipywidgets as widgets\n",
    "import numpy as np\n",
    "\n",
    "from ipywidgets import interact, interactive, fixed\n",
    "from IPython.core.display import HTML\n",
    "from IPython.display import display, clear_output\n",
    "from plotly.widgets import GraphWidget\n",
    "\n",
    "\n",
    "data = [go.Bar(\n",
    "            x=User,\n",
    "            y=Recommendations\n",
    "    )]\n",
    "\n",
    "py.iplot(data, filename='basic-bar')\n",
    "\n"
   ]
  },
  {
   "cell_type": "code",
   "execution_count": 211,
   "metadata": {
    "collapsed": false
   },
   "outputs": [
    {
     "data": {
      "text/plain": [
       "list"
      ]
     },
     "execution_count": 211,
     "metadata": {},
     "output_type": "execute_result"
    }
   ],
   "source": [
    "type(location)"
   ]
  },
  {
   "cell_type": "code",
   "execution_count": null,
   "metadata": {
    "collapsed": true
   },
   "outputs": [],
   "source": []
  }
 ],
 "metadata": {
  "kernelspec": {
   "display_name": "Python [default]",
   "language": "python",
   "name": "python3"
  },
  "language_info": {
   "codemirror_mode": {
    "name": "ipython",
    "version": 3
   },
   "file_extension": ".py",
   "mimetype": "text/x-python",
   "name": "python",
   "nbconvert_exporter": "python",
   "pygments_lexer": "ipython3",
   "version": "3.5.2"
  }
 },
 "nbformat": 4,
 "nbformat_minor": 2
}
