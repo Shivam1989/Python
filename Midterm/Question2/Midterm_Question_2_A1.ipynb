{
 "cells": [
  {
   "cell_type": "markdown",
   "metadata": {},
   "source": [
    "# Things to do-:\n",
    "- Use NYT API to collect NYT data.\n",
    "- Collect Data \n",
    "- Storing Data \n",
    "- Perform 3 analysis on the collected data. \n"
   ]
  },
  {
   "cell_type": "code",
   "execution_count": 4,
   "metadata": {
    "collapsed": false
   },
   "outputs": [
    {
     "name": "stdout",
     "output_type": "stream",
     "text": [
      "Enter the current working directory/Users/shivamgoel/Desktop/Python/midterm/Question2/\n"
     ]
    },
    {
     "data": {
      "text/plain": [
       "'/Users/shivamgoel/Desktop/Python/midterm/Question2'"
      ]
     },
     "execution_count": 4,
     "metadata": {},
     "output_type": "execute_result"
    }
   ],
   "source": [
    "import requests\n",
    "import json\n",
    "import os\n",
    "#dirname=os.chdir(\"/Users/shivamgoel/Desktop/Python/midterm/Question2\")\n",
    "dirname=input(\"Enter the current working directory\")\n",
    "os.chdir(dirname)# Set current working directory\n",
    "os.getcwd() # Get current working directory  \n"
   ]
  },
  {
   "cell_type": "code",
   "execution_count": 163,
   "metadata": {
    "collapsed": false
   },
   "outputs": [],
   "source": [
    "from configparser import ConfigParser\n",
    "import datetime\n",
    "config = ConfigParser()\n",
    "#config.read('settings.cfg', encoding='utf-8')\n",
    "path='config/settings.cfg'\n",
    "config_file = os.path.abspath(path)\n",
    "config.read(config_file)\n",
    "api_key = config.get('nytimes','api_key')\n",
    "start = datetime.date( year = int(config.get('nytimes','start_year')), month = int(config.get('nytimes','start_month')), day = int(config.get('nytimes','start_day')) )\n",
    "end = datetime.date( year = int(config.get('nytimes','end_year')), month = int(config.get('nytimes','end_month')), day = int(config.get('nytimes','end_day')) )\n",
    "json_file_path = config.get('nytimes','json_folder')"
   ]
  },
  {
   "cell_type": "code",
   "execution_count": 162,
   "metadata": {
    "collapsed": false
   },
   "outputs": [
    {
     "name": "stdout",
     "output_type": "stream",
     "text": [
      "dict_keys(['source', 'document_type', 'abstract', 'headline', 'type_of_material', 'section_name', 'slideshow_credits', 'byline', 'snippet', 'pub_date', 'lead_paragraph', 'subsection_name', 'print_page', 'web_url', 'word_count', 'keywords', 'multimedia', 'blog', 'news_desk', '_id'])\n",
      "864\n"
     ]
    }
   ],
   "source": [
    "# Make a get request to get the latest position of the international space station from the opennotify api.\n",
    "#year = 2017\n",
    "#month = 1\n",
    "#apiKey='3c19ed2e46ce4e5c9de5058cb0f73ae7'\n",
    "url = \"https://api.nytimes.com/svc/archive/v1/\"+str(year)+\"/\"+str(month)+\".json?api-key=\"+str(api_key)\n",
    "\n",
    "response = requests.get(url)\n",
    "\n",
    "content  = response.json()\n",
    "len(content['response']['docs'])\n",
    "print(content['response']['docs'][0].keys())\n",
    "print(content['response']['docs'][0]['word_count'])"
   ]
  },
  {
   "cell_type": "code",
   "execution_count": 158,
   "metadata": {
    "collapsed": false
   },
   "outputs": [],
   "source": [
    "def getJsonFileName(date, json_file_path):\n",
    "    json_file_name = \".\".join([date,str(page),'json'])\n",
    "    json_file_name = \"\".join([json_file_path,json_file_name])\n",
    "    return json_file_name\n",
    "\n",
    "                        json_file_name = getJsonFileName(date, page, json_file_path)\n",
    "                        json_file = open(json_file_name, 'w')\n",
    "                        json_file.write(content)\n",
    "                        json_file.close()"
   ]
  },
  {
   "cell_type": "code",
   "execution_count": 245,
   "metadata": {
    "collapsed": false
   },
   "outputs": [
    {
     "name": "stdout",
     "output_type": "stream",
     "text": [
      "Five Faces\n"
     ]
    }
   ],
   "source": [
    "print(((content['response']['docs'][24]['headline']['main']).split(',',1))[0])"
   ]
  },
  {
   "cell_type": "code",
   "execution_count": 269,
   "metadata": {
    "collapsed": false
   },
   "outputs": [],
   "source": [
    "listurl=[]\n",
    "pub_date=[]\n",
    "heading=[]\n",
    "news_desk=[]\n",
    "for i in range(len(content['response']['docs'])):\n",
    "    listurl.append(content['response']['docs'][i]['web_url'])\n",
    "    pub_date.append(content['response']['docs'][i]['pub_date'][0:10])\n",
    "    heading.append(((content['response']['docs'][i]['headline']['main']).split('/',1))[0])\n",
    "    news_desk.append(content['response']['docs'][i]['news_desk'])"
   ]
  },
  {
   "cell_type": "code",
   "execution_count": 274,
   "metadata": {
    "collapsed": false,
    "scrolled": true
   },
   "outputs": [],
   "source": [
    "import requests\n",
    "from bs4 import BeautifulSoup\n",
    "session = requests.Session()\n",
    "#url = \"http://www.nytimes.com/2017/01/01/opinion/angela-merkel-russias-next-target.html\"\n",
    "#url=\"https://www.nytimes.com/politics/first-draft/2016/01/01/hillary-clinton-raised-37-million-in-last-3-months/\"\n",
    "for x in range(len(listurl)):\n",
    "    \n",
    "    req = session.get(listurl[x])\n",
    "    soup = BeautifulSoup(req.text,\"lxml\")\n",
    "    paragraphs = soup.find_all('p')\n",
    "    article=''\n",
    "    for p in paragraphs:\n",
    "        article = article + p.get_text()\n",
    "    with open(pub_date[x]+\"Article_\"+str(x)+\"_\"+'.txt', 'w') as a:\n",
    "        a.write(article)"
   ]
  },
  {
   "cell_type": "code",
   "execution_count": 289,
   "metadata": {
    "collapsed": false
   },
   "outputs": [],
   "source": [
    "import glob\n",
    "\n",
    "read_files = glob.glob(\"*.txt\")\n",
    "with open(\"output/result.txt\", \"wb\") as outfile:\n",
    "    for f in read_files:\n",
    "        with open(f, \"rb\") as infile:\n",
    "            outfile.write(infile.read())"
   ]
  },
  {
   "cell_type": "markdown",
   "metadata": {},
   "source": [
    "# Analysis 1\n",
    "# Sentiment Analysis of all the articles from Jan 1-Jan 31 2017. It comprises of 5206 text files"
   ]
  },
  {
   "cell_type": "code",
   "execution_count": 5,
   "metadata": {
    "collapsed": false
   },
   "outputs": [
    {
     "name": "stdout",
     "output_type": "stream",
     "text": [
      "Enter the current working directory/Users/shivamgoel/Desktop/Python/midterm/Question2/output/\n"
     ]
    }
   ],
   "source": [
    "#dirname=os.chdir(\"/Users/shivamgoel/Desktop/Python/midterm/Question2/output/\")\n",
    "dirname=input(\"Enter the current working directory\")\n",
    "os.chdir(dirname)# Set current working directory\n",
    "from string import punctuation\n",
    "files=['negative.txt','positive.txt','result.txt']\n",
    "for file_name in files:\n",
    "    articles = open(\"result.txt\").read()\n",
    "articles_list = articles.split('\\n')\n",
    "\n",
    "pos_sent = open(\"positive.txt\").read()\n",
    "positive_words=pos_sent.split('\\n')\n",
    "positive_counts=[]\n",
    "\n",
    "neg_sent = open('negative.txt').read()\n",
    "negative_words=neg_sent.split('\\n')\n",
    "negative_counts=[]\n",
    "positive_counter=0\n",
    "negative_counter=0\n",
    "\n",
    "#word_count=len(words)\n",
    "    \n",
    "\n",
    "open_file = open('result.txt', 'r')\n",
    "words_list =[]\n",
    "contents = open_file.readlines()\n",
    "for i in range(len(contents)):\n",
    "    words_list.extend(contents[i].split())\n",
    "    \n",
    "all_posts = ([word1.lower() for word1 in words_list])\n",
    "word_count=len(words_list)"
   ]
  },
  {
   "cell_type": "code",
   "execution_count": 6,
   "metadata": {
    "collapsed": false
   },
   "outputs": [],
   "source": [
    "for word in words_list:\n",
    "        if word in positive_words:\n",
    "            positive_counter=positive_counter+1\n",
    "        elif word in negative_words:\n",
    "            negative_counter=negative_counter+1\n",
    "        positive_counts.append(positive_counter/word_count)\n",
    "        negative_counts.append(negative_counter/word_count)\n"
   ]
  },
  {
   "cell_type": "code",
   "execution_count": 7,
   "metadata": {
    "collapsed": false
   },
   "outputs": [
    {
     "name": "stdout",
     "output_type": "stream",
     "text": [
      "134519\n",
      "79964\n"
     ]
    }
   ],
   "source": [
    "print (positive_counter)\n",
    "print (negative_counter)\n",
    "\n"
   ]
  },
  {
   "cell_type": "code",
   "execution_count": 8,
   "metadata": {
    "collapsed": false
   },
   "outputs": [],
   "source": [
    "import csv\n",
    "output=zip(words_list,positive_counts,negative_counts)\n",
    "\n",
    "writer = csv.writer(open('articles_sentiment.csv', 'w'))\n",
    "writer.writerows(output)"
   ]
  },
  {
   "cell_type": "code",
   "execution_count": 360,
   "metadata": {
    "collapsed": false
   },
   "outputs": [
    {
     "data": {
      "text/plain": [
       "4697695"
      ]
     },
     "execution_count": 360,
     "metadata": {},
     "output_type": "execute_result"
    }
   ],
   "source": [
    "len(words_list)"
   ]
  },
  {
   "cell_type": "code",
   "execution_count": null,
   "metadata": {
    "collapsed": false
   },
   "outputs": [],
   "source": [
    "''''import matplotlib.pyplot as plt\n",
    " \n",
    "g1 = positive_counts[100]\n",
    "g2 = negative_counts[100]\n",
    "data = (g1, g2)\n",
    "colors = (\"red\", \"green\")\n",
    "groups = (\"Negative\", \"Positive\") \n",
    " \n",
    "# Create plot\n",
    "fig = plt.figure()\n",
    "ax = fig.add_subplot(1, 1,1,axisbg=\"1.0\")\n",
    " \n",
    "for data, color, group in zip(data, colors, groups):\n",
    "    x, y = data\n",
    "    ax.scatter(x, y, alpha=0.8, c=color, edgecolors='none', s=30, label=group)\n",
    " \n",
    "plt.title('Matplot scatter plot')\n",
    "plt.legend(loc=2)\n",
    "plt.show() "
   ]
  },
  {
   "cell_type": "code",
   "execution_count": null,
   "metadata": {
    "collapsed": true
   },
   "outputs": [],
   "source": []
  }
 ],
 "metadata": {
  "anaconda-cloud": {},
  "kernelspec": {
   "display_name": "Python [default]",
   "language": "python",
   "name": "python3"
  },
  "language_info": {
   "codemirror_mode": {
    "name": "ipython",
    "version": 3
   },
   "file_extension": ".py",
   "mimetype": "text/x-python",
   "name": "python",
   "nbconvert_exporter": "python",
   "pygments_lexer": "ipython3",
   "version": "3.5.2"
  }
 },
 "nbformat": 4,
 "nbformat_minor": 1
}
