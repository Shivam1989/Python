{
 "cells": [
  {
   "cell_type": "markdown",
   "metadata": {},
   "source": [
    "\n",
    "# Under package nps_chat, see what files are in it.\n",
    "# Find 'user121' and see how many posts he posted in all.\n",
    "\n"
   ]
  },
  {
   "cell_type": "code",
   "execution_count": 9,
   "metadata": {
    "collapsed": false
   },
   "outputs": [],
   "source": [
    "#Importing NLTK\n",
    "import nltk\n",
    "# Getting all files from nps_chat\n",
    "from nltk.corpus import nps_chat as nps\n",
    "# Getting all files from nps_chat\n",
    "chats=nps.fileids() "
   ]
  },
  {
   "cell_type": "code",
   "execution_count": 7,
   "metadata": {
    "collapsed": false,
    "scrolled": true
   },
   "outputs": [
    {
     "name": "stdout",
     "output_type": "stream",
     "text": [
      "Total post posted by User 121 = 132\n"
     ]
    }
   ],
   "source": [
    "# Getting post data from all nps_chat files.\n",
    "xml = nps.xml_posts() \n",
    "#Looping through xml data in order to find User121.\n",
    "count = 0\n",
    "for post in xml:\n",
    "    if post.get('user').endswith('User121'):\n",
    "        count = count + 1\n",
    "print('Total post posted by User 121 =', count) "
   ]
  },
  {
   "cell_type": "markdown",
   "metadata": {},
   "source": [
    "# how many unique user in each age range group. (20s, 30s,...)"
   ]
  },
  {
   "cell_type": "code",
   "execution_count": 34,
   "metadata": {
    "collapsed": false
   },
   "outputs": [
    {
     "name": "stdout",
     "output_type": "stream",
     "text": [
      "Unique User in 20s = 162\n",
      "Unique User in 40s = 80\n",
      "Unique User in teens = 206\n",
      "Unique User in 30s = 44\n",
      "Unique User in adults = 138\n"
     ]
    }
   ],
   "source": [
    "# to find unique user in all nps_chat files.\n",
    "files = nps.fileids()\n",
    "group_user = []\n",
    "\n",
    "# looping through all files to trip age group.\n",
    "for word in files:\n",
    "    group_user.append(word[6:-13])\n",
    "uniqueAge = set(group_user)  # This is the unique age range.\n",
    "\n",
    "#Looping through all Unique Age Group.\n",
    "for unique_Age_Group in uniqueAge:  \n",
    "    # Empty list for containing all words used in chat.\n",
    "    userCount = [] \n",
    "    for userName in xml:\n",
    "        if unique_Age_Group in userName.get('user'):\n",
    "            userCount.append(userName.get('user')[6:])\n",
    "            # calculate the length of unique words used in chat.\n",
    "    print('Unique User in', unique_Age_Group, '=', len(set(userCount))) "
   ]
  }
 ],
 "metadata": {
  "anaconda-cloud": {},
  "kernelspec": {
   "display_name": "Python [default]",
   "language": "python",
   "name": "python3"
  },
  "language_info": {
   "codemirror_mode": {
    "name": "ipython",
    "version": 3
   },
   "file_extension": ".py",
   "mimetype": "text/x-python",
   "name": "python",
   "nbconvert_exporter": "python",
   "pygments_lexer": "ipython3",
   "version": "3.5.2"
  }
 },
 "nbformat": 4,
 "nbformat_minor": 1
}
