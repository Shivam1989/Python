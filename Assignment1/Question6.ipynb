{
 "cells": [
  {
   "cell_type": "markdown",
   "metadata": {},
   "source": [
    "# Under Inaugural Address package, For every president, find out how many unique words they used in speech. \n"
   ]
  },
  {
   "cell_type": "code",
   "execution_count": 1,
   "metadata": {
    "collapsed": true
   },
   "outputs": [],
   "source": [
    "#Import nltk\n",
    "from nltk.corpus import inaugural"
   ]
  },
  {
   "cell_type": "code",
   "execution_count": 13,
   "metadata": {
    "collapsed": false
   },
   "outputs": [
    {
     "data": {
      "text/plain": [
       "['1789-Washington.txt',\n",
       " '1793-Washington.txt',\n",
       " '1797-Adams.txt',\n",
       " '1801-Jefferson.txt',\n",
       " '1805-Jefferson.txt',\n",
       " '1809-Madison.txt',\n",
       " '1813-Madison.txt',\n",
       " '1817-Monroe.txt',\n",
       " '1821-Monroe.txt',\n",
       " '1825-Adams.txt',\n",
       " '1829-Jackson.txt',\n",
       " '1833-Jackson.txt',\n",
       " '1837-VanBuren.txt',\n",
       " '1841-Harrison.txt',\n",
       " '1845-Polk.txt',\n",
       " '1849-Taylor.txt',\n",
       " '1853-Pierce.txt',\n",
       " '1857-Buchanan.txt',\n",
       " '1861-Lincoln.txt',\n",
       " '1865-Lincoln.txt',\n",
       " '1869-Grant.txt',\n",
       " '1873-Grant.txt',\n",
       " '1877-Hayes.txt',\n",
       " '1881-Garfield.txt',\n",
       " '1885-Cleveland.txt',\n",
       " '1889-Harrison.txt',\n",
       " '1893-Cleveland.txt',\n",
       " '1897-McKinley.txt',\n",
       " '1901-McKinley.txt',\n",
       " '1905-Roosevelt.txt',\n",
       " '1909-Taft.txt',\n",
       " '1913-Wilson.txt',\n",
       " '1917-Wilson.txt',\n",
       " '1921-Harding.txt',\n",
       " '1925-Coolidge.txt',\n",
       " '1929-Hoover.txt',\n",
       " '1933-Roosevelt.txt',\n",
       " '1937-Roosevelt.txt',\n",
       " '1941-Roosevelt.txt',\n",
       " '1945-Roosevelt.txt',\n",
       " '1949-Truman.txt',\n",
       " '1953-Eisenhower.txt',\n",
       " '1957-Eisenhower.txt',\n",
       " '1961-Kennedy.txt',\n",
       " '1965-Johnson.txt',\n",
       " '1969-Nixon.txt',\n",
       " '1973-Nixon.txt',\n",
       " '1977-Carter.txt',\n",
       " '1981-Reagan.txt',\n",
       " '1985-Reagan.txt',\n",
       " '1989-Bush.txt',\n",
       " '1993-Clinton.txt',\n",
       " '1997-Clinton.txt',\n",
       " '2001-Bush.txt',\n",
       " '2005-Bush.txt',\n",
       " '2009-Obama.txt']"
      ]
     },
     "execution_count": 13,
     "metadata": {},
     "output_type": "execute_result"
    }
   ],
   "source": [
    "#Checking file ids and presidents\n",
    "f1=inaugural.fileids() \n"
   ]
  },
  {
   "cell_type": "code",
   "execution_count": 24,
   "metadata": {
    "collapsed": false
   },
   "outputs": [
    {
     "name": "stdout",
     "output_type": "stream",
     "text": [
      "['Pierce', 'Jefferson', 'Adams', 'Taylor', 'Jackson', 'Harrison', 'Grant', 'Nixon', 'Polk', 'Hoover', 'Taft', 'Carter', 'Madison', 'Hayes', 'Johnson', 'Washington', 'Garfield', 'Eisenhower', 'VanBuren', 'Obama', 'Kennedy', 'Bush', 'Coolidge', 'Reagan', 'Cleveland', 'Buchanan', 'Wilson', 'Harding', 'McKinley', 'Lincoln', 'Clinton', 'Truman', 'Monroe', 'Roosevelt']\n"
     ]
    }
   ],
   "source": [
    "#Creating Empty list\n",
    "president = [] \n",
    "# Looping to get unique president\n",
    "for file in f1: \n",
    "    president.append(file[5:-4])\n",
    "uniqueList = list(set(president))\n",
    "print(uniqueList)"
   ]
  },
  {
   "cell_type": "markdown",
   "metadata": {},
   "source": [
    "# Unique Words by president"
   ]
  },
  {
   "cell_type": "code",
   "execution_count": 25,
   "metadata": {
    "collapsed": false
   },
   "outputs": [
    {
     "name": "stdout",
     "output_type": "stream",
     "text": [
      "Pierce is -: 1168\n",
      "Jefferson is -: 1261\n",
      "Adams is -: 1503\n",
      "Taylor is -: 499\n",
      "Jackson is -: 846\n",
      "Harrison is -: 2662\n",
      "Grant is -: 855\n",
      "Nixon is -: 1037\n",
      "Polk is -: 1333\n",
      "Hoover is -: 1087\n",
      "Taft is -: 1439\n",
      "Carter is -: 529\n",
      "Madison is -: 899\n",
      "Hayes is -: 832\n",
      "Johnson is -: 571\n",
      "Washington is -: 663\n",
      "Garfield is -: 1022\n",
      "Eisenhower is -: 1250\n",
      "VanBuren is -: 1318\n",
      "Obama is -: 938\n",
      "Kennedy is -: 570\n",
      "Bush is -: 1578\n",
      "Coolidge is -: 1221\n",
      "Reagan is -: 1453\n",
      "Cleveland is -: 1219\n",
      "Buchanan is -: 948\n",
      "Wilson is -: 996\n",
      "Harding is -: 1170\n",
      "McKinley is -: 1682\n",
      "Lincoln is -: 1261\n",
      "Clinton is -: 1138\n",
      "Truman is -: 781\n",
      "Monroe is -: 1781\n",
      "Roosevelt is -: 1704\n"
     ]
    }
   ],
   "source": [
    "# Looping through president list.\n",
    "for president in uniqueList: \n",
    "    # Empty list for wordcount.\n",
    "    wordCount = [] \n",
    "    # Looping through all the 56 text file to get all words.\n",
    "    for uPresident in f1: \n",
    "        # Checking President Name exist in Text file.\n",
    "        if uPresident[5:-4] == president: \n",
    "            # get all the words\n",
    "            wordCount.extend(inaugural.words(uPresident))\n",
    "            # calculate the length of unique words used in speech.\n",
    "    print(president, 'is -:', len(set(wordCount))) "
   ]
  },
  {
   "cell_type": "code",
   "execution_count": null,
   "metadata": {
    "collapsed": true
   },
   "outputs": [],
   "source": []
  }
 ],
 "metadata": {
  "anaconda-cloud": {},
  "kernelspec": {
   "display_name": "Python [default]",
   "language": "python",
   "name": "python3"
  },
  "language_info": {
   "codemirror_mode": {
    "name": "ipython",
    "version": 3
   },
   "file_extension": ".py",
   "mimetype": "text/x-python",
   "name": "python",
   "nbconvert_exporter": "python",
   "pygments_lexer": "ipython3",
   "version": "3.5.2"
  }
 },
 "nbformat": 4,
 "nbformat_minor": 1
}
