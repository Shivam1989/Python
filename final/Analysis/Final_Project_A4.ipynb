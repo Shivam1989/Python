{
 "cells": [
  {
   "cell_type": "code",
   "execution_count": 1,
   "metadata": {
    "collapsed": true
   },
   "outputs": [],
   "source": [
    "import pandas as pd\n",
    "import numpy as np\n",
    "from pandas import DataFrame\n",
    "from datetime import datetime,date,timedelta\n",
    "import matplotlib.pyplot as plt\n",
    "import seaborn as sns\n",
    "%matplotlib inline\n",
    "import os"
   ]
  },
  {
   "cell_type": "code",
   "execution_count": 2,
   "metadata": {
    "collapsed": false
   },
   "outputs": [
    {
     "name": "stdout",
     "output_type": "stream",
     "text": [
      "Enter the current working directory/Users/shivamgoel/Desktop/Python/final\n"
     ]
    },
    {
     "data": {
      "text/plain": [
       "'/Users/shivamgoel/Desktop/Python/final'"
      ]
     },
     "execution_count": 2,
     "metadata": {},
     "output_type": "execute_result"
    }
   ],
   "source": [
    "#Input Working directory or directory you want to work in\n",
    "dirname=input(\"Enter the current working directory\")\n",
    "os.chdir(dirname)# Set current working directory\n",
    "os.getcwd() # Get current working directory"
   ]
  },
  {
   "cell_type": "code",
   "execution_count": 3,
   "metadata": {
    "collapsed": true
   },
   "outputs": [],
   "source": [
    "airlines_data = pd.read_csv('data/airlines.csv',low_memory=False,error_bad_lines=False,warn_bad_lines=False, skipinitialspace=True)\n",
    "airports_data = pd.read_csv('data/airports.csv',low_memory=False,error_bad_lines=False,warn_bad_lines=False, skipinitialspace=True)\n",
    "flights = pd.read_csv('data/flights.csv',low_memory=False,error_bad_lines=False,warn_bad_lines=False, skipinitialspace=True,\n",
    "                           na_values=['NA      ', 'NA    ', 'NA   ', 'NA', 'NA ', 'NA ', 'NaN', 'NAN', ''])"
   ]
  },
  {
   "cell_type": "code",
   "execution_count": 4,
   "metadata": {
    "collapsed": false
   },
   "outputs": [
    {
     "data": {
      "text/html": [
       "<div>\n",
       "<table border=\"1\" class=\"dataframe\">\n",
       "  <thead>\n",
       "    <tr style=\"text-align: right;\">\n",
       "      <th></th>\n",
       "      <th>IATA_CODE</th>\n",
       "      <th>AIRPORT</th>\n",
       "      <th>CITY</th>\n",
       "      <th>STATE</th>\n",
       "      <th>COUNTRY</th>\n",
       "      <th>LATITUDE</th>\n",
       "      <th>LONGITUDE</th>\n",
       "    </tr>\n",
       "  </thead>\n",
       "  <tbody>\n",
       "    <tr>\n",
       "      <th>0</th>\n",
       "      <td>ABE</td>\n",
       "      <td>Lehigh Valley International Airport</td>\n",
       "      <td>Allentown</td>\n",
       "      <td>PA</td>\n",
       "      <td>USA</td>\n",
       "      <td>40.65236</td>\n",
       "      <td>-75.44040</td>\n",
       "    </tr>\n",
       "    <tr>\n",
       "      <th>1</th>\n",
       "      <td>ABI</td>\n",
       "      <td>Abilene Regional Airport</td>\n",
       "      <td>Abilene</td>\n",
       "      <td>TX</td>\n",
       "      <td>USA</td>\n",
       "      <td>32.41132</td>\n",
       "      <td>-99.68190</td>\n",
       "    </tr>\n",
       "    <tr>\n",
       "      <th>2</th>\n",
       "      <td>ABQ</td>\n",
       "      <td>Albuquerque International Sunport</td>\n",
       "      <td>Albuquerque</td>\n",
       "      <td>NM</td>\n",
       "      <td>USA</td>\n",
       "      <td>35.04022</td>\n",
       "      <td>-106.60919</td>\n",
       "    </tr>\n",
       "    <tr>\n",
       "      <th>3</th>\n",
       "      <td>ABR</td>\n",
       "      <td>Aberdeen Regional Airport</td>\n",
       "      <td>Aberdeen</td>\n",
       "      <td>SD</td>\n",
       "      <td>USA</td>\n",
       "      <td>45.44906</td>\n",
       "      <td>-98.42183</td>\n",
       "    </tr>\n",
       "    <tr>\n",
       "      <th>4</th>\n",
       "      <td>ABY</td>\n",
       "      <td>Southwest Georgia Regional Airport</td>\n",
       "      <td>Albany</td>\n",
       "      <td>GA</td>\n",
       "      <td>USA</td>\n",
       "      <td>31.53552</td>\n",
       "      <td>-84.19447</td>\n",
       "    </tr>\n",
       "  </tbody>\n",
       "</table>\n",
       "</div>"
      ],
      "text/plain": [
       "  IATA_CODE                              AIRPORT         CITY STATE COUNTRY  \\\n",
       "0       ABE  Lehigh Valley International Airport    Allentown    PA     USA   \n",
       "1       ABI             Abilene Regional Airport      Abilene    TX     USA   \n",
       "2       ABQ    Albuquerque International Sunport  Albuquerque    NM     USA   \n",
       "3       ABR            Aberdeen Regional Airport     Aberdeen    SD     USA   \n",
       "4       ABY   Southwest Georgia Regional Airport       Albany    GA     USA   \n",
       "\n",
       "   LATITUDE  LONGITUDE  \n",
       "0  40.65236  -75.44040  \n",
       "1  32.41132  -99.68190  \n",
       "2  35.04022 -106.60919  \n",
       "3  45.44906  -98.42183  \n",
       "4  31.53552  -84.19447  "
      ]
     },
     "execution_count": 4,
     "metadata": {},
     "output_type": "execute_result"
    }
   ],
   "source": [
    "#Shapping Data\n",
    "airlines_data.shape[0] #no of rows=14\n",
    "airlines_data.shape[1] #no of columns=2\n",
    "\n",
    "airports_data.shape[0] #no of rows=322\n",
    "airports_data.shape[1] #no of columns=7\n",
    "\n",
    "flights.shape[0] #no of rows = 5819079\n",
    "flights.shape[1] #no of columns = 31\n",
    "airports_data.head()"
   ]
  },
  {
   "cell_type": "code",
   "execution_count": 5,
   "metadata": {
    "collapsed": true
   },
   "outputs": [],
   "source": [
    "unique_flights_data = {}\n",
    "for item in flights.columns:\n",
    "    unique_flights_data[item] = flights[item].unique()\n",
    "#unique_flights_data"
   ]
  },
  {
   "cell_type": "code",
   "execution_count": 6,
   "metadata": {
    "collapsed": true
   },
   "outputs": [],
   "source": [
    "day_of_week_desc={\n",
    "    1:'Monday',\n",
    "    2:'Tuesday',\n",
    "    3:'Wednesday',\n",
    "    4:'Thursday',\n",
    "    5:'Friday',\n",
    "    6:'Saturday',\n",
    "    7:'Sunday'\n",
    "}\n",
    "flights['DESC_DOW']=flights['DAY_OF_WEEK'].apply(lambda a:day_of_week_desc[a])\n"
   ]
  },
  {
   "cell_type": "code",
   "execution_count": 7,
   "metadata": {
    "collapsed": false
   },
   "outputs": [
    {
     "data": {
      "text/plain": [
       "0      Alaska Airlines Inc.\n",
       "1    American Airlines Inc.\n",
       "2           US Airways Inc.\n",
       "3    American Airlines Inc.\n",
       "4      Alaska Airlines Inc.\n",
       "Name: DESC_AIRLINE, dtype: object"
      ]
     },
     "execution_count": 7,
     "metadata": {},
     "output_type": "execute_result"
    }
   ],
   "source": [
    "airlines_dict = dict(zip(airlines_data['IATA_CODE'],airlines_data['AIRLINE']))\n",
    "airport_dict = dict(zip(airports_data['IATA_CODE'],airports_data['AIRPORT']))\n",
    "flights['DESC_AIRLINE'] = flights['AIRLINE'].apply(lambda x: airlines_dict[x])\n",
    "flights.head()['DESC_AIRLINE']"
   ]
  },
  {
   "cell_type": "markdown",
   "metadata": {},
   "source": [
    "# Let's look at some insights from the data. Most busy day."
   ]
  },
  {
   "cell_type": "code",
   "execution_count": 8,
   "metadata": {
    "collapsed": false
   },
   "outputs": [
    {
     "name": "stderr",
     "output_type": "stream",
     "text": [
      "//anaconda/lib/python3.5/site-packages/matplotlib/cbook.py:2644: UserWarning: Saw kwargs ['c', 'color'] which are all aliases for 'color'.  Kept value from 'color'\n",
      "  seen=seen, canon=canonical, used=seen[-1]))\n"
     ]
    },
    {
     "data": {
      "text/plain": [
       "<matplotlib.text.Text at 0x1043f50b8>"
      ]
     },
     "execution_count": 8,
     "metadata": {},
     "output_type": "execute_result"
    },
    {
     "data": {
      "image/png": "[encoded data removed]",
      "text/plain": [
       "<matplotlib.figure.Figure at 0x114c62208>"
      ]
     },
     "metadata": {},
     "output_type": "display_data"
    }
   ],
   "source": [
    "df_busyday = pd.DataFrame(flights.groupby('DESC_DOW').count()['SCHEDULED_DEPARTURE'])\n",
    "df_busyday = df_busyday.sort_values(['SCHEDULED_DEPARTURE'],ascending = 1)\n",
    "df_busyday.head()\n",
    "df_busyday.plot(kind='line',subplots=True,c='r',figsize=(12,6))\n",
    "plt.xticks()\n",
    "plt.yticks()\n",
    "plt.title('Number of Scheduled flights per day')"
   ]
  },
  {
   "cell_type": "code",
   "execution_count": 9,
   "metadata": {
    "collapsed": false
   },
   "outputs": [
    {
     "data": {
      "text/html": [
       "<div>\n",
       "<table border=\"1\" class=\"dataframe\">\n",
       "  <thead>\n",
       "    <tr style=\"text-align: right;\">\n",
       "      <th></th>\n",
       "      <th>Year</th>\n",
       "      <th>Date</th>\n",
       "      <th>Holiday</th>\n",
       "      <th>Month</th>\n",
       "      <th>Week</th>\n",
       "    </tr>\n",
       "  </thead>\n",
       "  <tbody>\n",
       "    <tr>\n",
       "      <th>0</th>\n",
       "      <td>2009</td>\n",
       "      <td>2009-01-01</td>\n",
       "      <td>New Year's Day</td>\n",
       "      <td>1</td>\n",
       "      <td>&lt;map object at 0x112909f98&gt;</td>\n",
       "    </tr>\n",
       "    <tr>\n",
       "      <th>1</th>\n",
       "      <td>2009</td>\n",
       "      <td>2009-01-19</td>\n",
       "      <td>Birthday of Martin Luther King, Jr.</td>\n",
       "      <td>1</td>\n",
       "      <td>&lt;map object at 0x112909f98&gt;</td>\n",
       "    </tr>\n",
       "    <tr>\n",
       "      <th>2</th>\n",
       "      <td>2009</td>\n",
       "      <td>2009-02-16</td>\n",
       "      <td>Washington's Birthday</td>\n",
       "      <td>2</td>\n",
       "      <td>&lt;map object at 0x112909f98&gt;</td>\n",
       "    </tr>\n",
       "    <tr>\n",
       "      <th>3</th>\n",
       "      <td>2009</td>\n",
       "      <td>2009-05-25</td>\n",
       "      <td>Memorial Day</td>\n",
       "      <td>5</td>\n",
       "      <td>&lt;map object at 0x112909f98&gt;</td>\n",
       "    </tr>\n",
       "    <tr>\n",
       "      <th>4</th>\n",
       "      <td>2009</td>\n",
       "      <td>2009-07-03</td>\n",
       "      <td>Independence Day</td>\n",
       "      <td>7</td>\n",
       "      <td>&lt;map object at 0x112909f98&gt;</td>\n",
       "    </tr>\n",
       "  </tbody>\n",
       "</table>\n",
       "</div>"
      ],
      "text/plain": [
       "   Year       Date                              Holiday  Month  \\\n",
       "0  2009 2009-01-01                       New Year's Day      1   \n",
       "1  2009 2009-01-19  Birthday of Martin Luther King, Jr.      1   \n",
       "2  2009 2009-02-16                Washington's Birthday      2   \n",
       "3  2009 2009-05-25                         Memorial Day      5   \n",
       "4  2009 2009-07-03                     Independence Day      7   \n",
       "\n",
       "                          Week  \n",
       "0  <map object at 0x112909f98>  \n",
       "1  <map object at 0x112909f98>  \n",
       "2  <map object at 0x112909f98>  \n",
       "3  <map object at 0x112909f98>  \n",
       "4  <map object at 0x112909f98>  "
      ]
     },
     "execution_count": 9,
     "metadata": {},
     "output_type": "execute_result"
    }
   ],
   "source": [
    "# import holidays dataset\n",
    "holidays = pd.read_csv('data/holidays.csv')\n",
    "holidays.Date = pd.to_datetime(holidays.Date,infer_datetime_format=True)\n",
    "holidays['Month'] = holidays.Date.apply(lambda x:x.month)\n",
    "holidays['Week'] = map(lambda x:x.isocalendar()[1],holidays.Date)\n",
    "#print \"before cleaning:\"\n",
    "#print holidays.head()\n",
    "\n",
    "#holidays['Date'] = holidays.apply(lambda r:clean_date(r[0],r[1]),axis=1)\n",
    "#print \"after cleaning:\"\n",
    "holidays.head()"
   ]
  },
  {
   "cell_type": "code",
   "execution_count": 10,
   "metadata": {
    "collapsed": true
   },
   "outputs": [],
   "source": [
    "def clean_date(year,date):\n",
    "    \"\"\"Used to clean holidays date format\"\"\"\n",
    "    day2Int = {'Monday':1,'Tuesday':2,'Wednesday':3,'Thursday':4,'Friday':5,'Saturday':6,'Sunday':7}\n",
    "    month2Int = {'January':1,'February':2,'March':3,'April':4,'May':5,'June':6,\n",
    "                 'July':7,'August':8,'September':9,'October':10,'November':11,'December':12}\n",
    "    r = re.sub('[\\W_]','|',date).split('|')\n",
    "    month = month2Int[r[2]]\n",
    "    dayofWeek = day2Int[r[0]]\n",
    "    dayofMonth = int(r[3])\n",
    "    return dt.datetime(year,month,dayofMonth)\n",
    "\n",
    "def daystocloseholiday(date,hdays=holidays):\n",
    "    \"\"\"calculate the days between a given date and the closest holiday to it\"\"\"\n",
    "    hdays = (hdays.Date-date).min()\n",
    "    \n",
    "    return hdays"
   ]
  },
  {
   "cell_type": "code",
   "execution_count": null,
   "metadata": {
    "collapsed": true
   },
   "outputs": [],
   "source": []
  }
 ],
 "metadata": {
  "anaconda-cloud": {},
  "kernelspec": {
   "display_name": "Python [default]",
   "language": "python",
   "name": "python3"
  },
  "language_info": {
   "codemirror_mode": {
    "name": "ipython",
    "version": 3
   },
   "file_extension": ".py",
   "mimetype": "text/x-python",
   "name": "python",
   "nbconvert_exporter": "python",
   "pygments_lexer": "ipython3",
   "version": "3.5.2"
  }
 },
 "nbformat": 4,
 "nbformat_minor": 2
}
