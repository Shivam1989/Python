{
 "cells": [
  {
   "cell_type": "code",
   "execution_count": 30,
   "metadata": {
    "collapsed": false
   },
   "outputs": [],
   "source": [
    "#Import packages\n",
    "import os\n",
    "import pandas as pd\n",
    "import numpy as np\n",
    "# Offsetting the warning\n",
    "import warnings\n",
    "warnings.filterwarnings('ignore')"
   ]
  },
  {
   "cell_type": "code",
   "execution_count": 49,
   "metadata": {
    "collapsed": false
   },
   "outputs": [
    {
     "data": {
      "text/html": [
       "<div>\n",
       "<table border=\"1\" class=\"dataframe\">\n",
       "  <thead>\n",
       "    <tr style=\"text-align: right;\">\n",
       "      <th></th>\n",
       "      <th>Awards</th>\n",
       "    </tr>\n",
       "  </thead>\n",
       "  <tbody>\n",
       "    <tr>\n",
       "      <th>0</th>\n",
       "      <td>NaN</td>\n",
       "    </tr>\n",
       "    <tr>\n",
       "      <th>1</th>\n",
       "      <td>NaN</td>\n",
       "    </tr>\n",
       "    <tr>\n",
       "      <th>2</th>\n",
       "      <td>NaN</td>\n",
       "    </tr>\n",
       "    <tr>\n",
       "      <th>3</th>\n",
       "      <td>1 win &amp; 2 nominations.</td>\n",
       "    </tr>\n",
       "    <tr>\n",
       "      <th>4</th>\n",
       "      <td>1 win.</td>\n",
       "    </tr>\n",
       "  </tbody>\n",
       "</table>\n",
       "</div>"
      ],
      "text/plain": [
       "                   Awards\n",
       "0                     NaN\n",
       "1                     NaN\n",
       "2                     NaN\n",
       "3  1 win & 2 nominations.\n",
       "4                  1 win."
      ]
     },
     "execution_count": 49,
     "metadata": {},
     "output_type": "execute_result"
    }
   ],
   "source": [
    "# Get current working directory\n",
    "direct = os.getcwd()\n",
    "\n",
    "# Read CSV file\n",
    "df = pd.read_csv(direct+\"/\"+\"Assignment 3/movies_awards.csv\", usecols=[15])\n",
    "\n",
    "df.head()"
   ]
  },
  {
   "cell_type": "code",
   "execution_count": 50,
   "metadata": {
    "collapsed": false
   },
   "outputs": [
    {
     "data": {
      "text/html": [
       "<div>\n",
       "<table border=\"1\" class=\"dataframe\">\n",
       "  <thead>\n",
       "    <tr style=\"text-align: right;\">\n",
       "      <th></th>\n",
       "      <th>Awards</th>\n",
       "    </tr>\n",
       "  </thead>\n",
       "  <tbody>\n",
       "    <tr>\n",
       "      <th>3</th>\n",
       "      <td>1 win &amp; 2 nominations.</td>\n",
       "    </tr>\n",
       "    <tr>\n",
       "      <th>4</th>\n",
       "      <td>1 win.</td>\n",
       "    </tr>\n",
       "    <tr>\n",
       "      <th>5</th>\n",
       "      <td>1 nomination.</td>\n",
       "    </tr>\n",
       "    <tr>\n",
       "      <th>6</th>\n",
       "      <td>3 wins &amp; 2 nominations.</td>\n",
       "    </tr>\n",
       "    <tr>\n",
       "      <th>7</th>\n",
       "      <td>1 win &amp; 1 nomination.</td>\n",
       "    </tr>\n",
       "  </tbody>\n",
       "</table>\n",
       "</div>"
      ],
      "text/plain": [
       "                    Awards\n",
       "3   1 win & 2 nominations.\n",
       "4                   1 win.\n",
       "5            1 nomination.\n",
       "6  3 wins & 2 nominations.\n",
       "7    1 win & 1 nomination."
      ]
     },
     "execution_count": 50,
     "metadata": {},
     "output_type": "execute_result"
    }
   ],
   "source": [
    "# filtering the data frame for which awards is N/A\n",
    "dfMovies = df.dropna()\n",
    "\n",
    "dfMovies.head()"
   ]
  },
  {
   "cell_type": "code",
   "execution_count": 51,
   "metadata": {
    "collapsed": false
   },
   "outputs": [],
   "source": [
    "# spliiting data and creating columns \n",
    "dfMovies['Awards Wins'] = dfMovies['Awards'].str.extract('(\\d+ win)', expand=True)\n",
    "dfMovies['Awards Nominated'] = dfMovies['Awards'].str.extract('(\\d+ nomination)', expand=True)\n",
    "dfMovies['Primetime Emmys Wins'] = dfMovies['Awards'].str.extract('(Won \\d+ Primetime Emmy)', expand=True)\n",
    "dfMovies['Primetime Emmys Nominations'] = dfMovies['Awards'].str.extract('(Nominated for \\d+ Primetime Emmy)', expand=True)\n",
    "dfMovies['Oscar Nominations'] = dfMovies['Awards'].str.extract('(Nominated for \\d+ Oscar)', expand=True)\n",
    "dfMovies['Oscar Wins'] = dfMovies['Awards'].str.extract('(Won \\d+ Oscar)', expand=True)\n",
    "dfMovies['Golden Globe Nominations'] = dfMovies['Awards'].str.extract('(Nominated for \\d+ Golden Globe)', expand=True)\n",
    "dfMovies['Golden Globe Wins'] = dfMovies['Awards'].str.extract('(Won \\d+ Golden Globe)', expand=True)\n",
    "dfMovies['BAFTA Nominations'] = dfMovies['Awards'].str.extract('(Nominated for \\d+ BAFTA)', expand=True)\n",
    "dfMovies['BAFTA Wins'] = dfMovies['Awards'].str.extract('(Won \\d+ BAFTA)', expand=True)"
   ]
  },
  {
   "cell_type": "code",
   "execution_count": 52,
   "metadata": {
    "collapsed": false
   },
   "outputs": [],
   "source": [
    "#taking integers from the split strings\n",
    "dfMovies['Awards Wins'] = dfMovies['Awards Wins'].str.extract('(\\d+)')\n",
    "dfMovies['Awards Nominated'] = dfMovies['Awards Nominated'].str.extract('(\\d+)')\n",
    "dfMovies['Oscar Nominations'] = dfMovies['Oscar Nominations'].str.extract('(\\d+)')\n",
    "dfMovies['Oscar Wins'] = dfMovies['Oscar Wins'].str.extract('(\\d+)')\n",
    "dfMovies['Primetime Emmys Nominations'] = dfMovies['Primetime Emmys Nominations'].str.extract('(\\d+)')\n",
    "dfMovies['Primetime Emmys Wins'] = dfMovies['Primetime Emmys Wins'].str.extract('(\\d+)')\n",
    "dfMovies['Golden Globe Nominations'] = dfMovies['Golden Globe Nominations'].str.extract('(\\d+)')\n",
    "dfMovies['Golden Globe Wins'] = dfMovies['Golden Globe Wins'].str.extract('(\\d+)')\n",
    "dfMovies['BAFTA Nominations'] = dfMovies['BAFTA Nominations'].str.extract('(\\d+)')\n",
    "dfMovies['BAFTA Wins'] = dfMovies['BAFTA Wins'].str.extract('(\\d+)')"
   ]
  },
  {
   "cell_type": "code",
   "execution_count": 53,
   "metadata": {
    "collapsed": false
   },
   "outputs": [],
   "source": [
    "#filling NaN with 0\n",
    "dfMovies['Awards Wins'] = dfMovies['Awards Wins'].fillna(0)\n",
    "dfMovies['Awards Nominated'] = dfMovies['Awards Nominated'].fillna(0)\n",
    "dfMovies['Primetime Emmys Nominations'] = dfMovies['Primetime Emmys Nominations'].fillna(0)\n",
    "dfMovies['Primetime Emmys Wins'] = dfMovies['Primetime Emmys Wins'].fillna(0)\n",
    "dfMovies['Oscar Nominations'] = dfMovies['Oscar Nominations'].fillna(0)\n",
    "dfMovies['Oscar Wins'] = dfMovies['Oscar Wins'].fillna(0)\n",
    "dfMovies['Golden Globe Nominations'] = dfMovies['Golden Globe Nominations'].fillna(0)\n",
    "dfMovies['Golden Globe Wins'] = dfMovies['Golden Globe Wins'].fillna(0)\n",
    "dfMovies['BAFTA Nominations'] = dfMovies['BAFTA Nominations'].fillna(0)\n",
    "dfMovies['BAFTA Wins'] = dfMovies['BAFTA Wins'].fillna(0)"
   ]
  },
  {
   "cell_type": "code",
   "execution_count": 54,
   "metadata": {
    "collapsed": false
   },
   "outputs": [],
   "source": [
    "#converting the data-type from string to int\n",
    "dfMovies['Awards Nominated'] = dfMovies['Awards Nominated'].astype(int)\n",
    "dfMovies['Awards Wins'] = dfMovies['Awards Wins'].astype(int)\n",
    "dfMovies['Oscar Nominations'] = dfMovies['Oscar Nominations'].astype(int)\n",
    "dfMovies['Oscar Wins'] = dfMovies['Oscar Wins'].astype(int)\n",
    "dfMovies['Primetime Emmys Nominations'] = dfMovies['Primetime Emmys Nominations'].astype(int)\n",
    "dfMovies['Primetime Emmys Wins'] = dfMovies['Primetime Emmys Wins'].astype(int)\n",
    "dfMovies['Golden Globe Nominations'] = dfMovies['Golden Globe Nominations'].astype(int)\n",
    "dfMovies['Golden Globe Wins'] = dfMovies['Golden Globe Wins'].astype(int)\n",
    "dfMovies['BAFTA Nominations'] = dfMovies['BAFTA Nominations'].astype(int)\n",
    "dfMovies['BAFTA Wins'] = dfMovies['BAFTA Wins'].astype(int)\n"
   ]
  },
  {
   "cell_type": "code",
   "execution_count": 55,
   "metadata": {
    "collapsed": false
   },
   "outputs": [],
   "source": [
    "#calculating total number of nominations and awards\n",
    "dfMovies['Awards Nominated'] = dfMovies['Awards Nominated'] + dfMovies['Oscar Nominations'] + dfMovies['Primetime Emmys Nominations'] + dfMovies['Golden Globe Nominations'] + dfMovies['BAFTA Nominations']\n",
    "dfMovies['Awards Wins'] = dfMovies['Awards Wins'] + dfMovies['Oscar Wins'] + dfMovies['Primetime Emmys Wins'] + dfMovies['Golden Globe Wins'] + dfMovies['BAFTA Wins']"
   ]
  },
  {
   "cell_type": "code",
   "execution_count": 56,
   "metadata": {
    "collapsed": false
   },
   "outputs": [],
   "source": [
    "#columns to be printed on the console\n",
    "columns = ['Awards','Awards Nominations','Awards Wins','Oscar Nominations','Oscar Wins','Primetime Emmys Nominations','Primetime Emmys Wins','Golden Globe Nominations','Golden Globe Wins','BAFTA Nominations','BAFTA Wins']"
   ]
  },
  {
   "cell_type": "code",
   "execution_count": 58,
   "metadata": {
    "collapsed": false
   },
   "outputs": [
    {
     "data": {
      "text/html": [
       "<div>\n",
       "<table border=\"1\" class=\"dataframe\">\n",
       "  <thead>\n",
       "    <tr style=\"text-align: right;\">\n",
       "      <th></th>\n",
       "      <th>Awards</th>\n",
       "      <th>Awards Wins</th>\n",
       "      <th>Awards Nominated</th>\n",
       "      <th>Primetime Emmys Wins</th>\n",
       "      <th>Primetime Emmys Nominations</th>\n",
       "      <th>Oscar Nominations</th>\n",
       "      <th>Oscar Wins</th>\n",
       "      <th>Golden Globe Nominations</th>\n",
       "      <th>Golden Globe Wins</th>\n",
       "      <th>BAFTA Nominations</th>\n",
       "      <th>BAFTA Wins</th>\n",
       "    </tr>\n",
       "  </thead>\n",
       "  <tbody>\n",
       "    <tr>\n",
       "      <th>3</th>\n",
       "      <td>1 win &amp; 2 nominations.</td>\n",
       "      <td>1</td>\n",
       "      <td>2</td>\n",
       "      <td>0</td>\n",
       "      <td>0</td>\n",
       "      <td>0</td>\n",
       "      <td>0</td>\n",
       "      <td>0</td>\n",
       "      <td>0</td>\n",
       "      <td>0</td>\n",
       "      <td>0</td>\n",
       "    </tr>\n",
       "    <tr>\n",
       "      <th>4</th>\n",
       "      <td>1 win.</td>\n",
       "      <td>1</td>\n",
       "      <td>0</td>\n",
       "      <td>0</td>\n",
       "      <td>0</td>\n",
       "      <td>0</td>\n",
       "      <td>0</td>\n",
       "      <td>0</td>\n",
       "      <td>0</td>\n",
       "      <td>0</td>\n",
       "      <td>0</td>\n",
       "    </tr>\n",
       "    <tr>\n",
       "      <th>5</th>\n",
       "      <td>1 nomination.</td>\n",
       "      <td>0</td>\n",
       "      <td>1</td>\n",
       "      <td>0</td>\n",
       "      <td>0</td>\n",
       "      <td>0</td>\n",
       "      <td>0</td>\n",
       "      <td>0</td>\n",
       "      <td>0</td>\n",
       "      <td>0</td>\n",
       "      <td>0</td>\n",
       "    </tr>\n",
       "    <tr>\n",
       "      <th>6</th>\n",
       "      <td>3 wins &amp; 2 nominations.</td>\n",
       "      <td>3</td>\n",
       "      <td>2</td>\n",
       "      <td>0</td>\n",
       "      <td>0</td>\n",
       "      <td>0</td>\n",
       "      <td>0</td>\n",
       "      <td>0</td>\n",
       "      <td>0</td>\n",
       "      <td>0</td>\n",
       "      <td>0</td>\n",
       "    </tr>\n",
       "    <tr>\n",
       "      <th>7</th>\n",
       "      <td>1 win &amp; 1 nomination.</td>\n",
       "      <td>1</td>\n",
       "      <td>1</td>\n",
       "      <td>0</td>\n",
       "      <td>0</td>\n",
       "      <td>0</td>\n",
       "      <td>0</td>\n",
       "      <td>0</td>\n",
       "      <td>0</td>\n",
       "      <td>0</td>\n",
       "      <td>0</td>\n",
       "    </tr>\n",
       "  </tbody>\n",
       "</table>\n",
       "</div>"
      ],
      "text/plain": [
       "                    Awards  Awards Wins  Awards Nominated  \\\n",
       "3   1 win & 2 nominations.            1                 2   \n",
       "4                   1 win.            1                 0   \n",
       "5            1 nomination.            0                 1   \n",
       "6  3 wins & 2 nominations.            3                 2   \n",
       "7    1 win & 1 nomination.            1                 1   \n",
       "\n",
       "   Primetime Emmys Wins  Primetime Emmys Nominations  Oscar Nominations  \\\n",
       "3                     0                            0                  0   \n",
       "4                     0                            0                  0   \n",
       "5                     0                            0                  0   \n",
       "6                     0                            0                  0   \n",
       "7                     0                            0                  0   \n",
       "\n",
       "   Oscar Wins  Golden Globe Nominations  Golden Globe Wins  BAFTA Nominations  \\\n",
       "3           0                         0                  0                  0   \n",
       "4           0                         0                  0                  0   \n",
       "5           0                         0                  0                  0   \n",
       "6           0                         0                  0                  0   \n",
       "7           0                         0                  0                  0   \n",
       "\n",
       "   BAFTA Wins  \n",
       "3           0  \n",
       "4           0  \n",
       "5           0  \n",
       "6           0  \n",
       "7           0  "
      ]
     },
     "execution_count": 58,
     "metadata": {},
     "output_type": "execute_result"
    }
   ],
   "source": [
    "dfMovies.head()"
   ]
  },
  {
   "cell_type": "code",
   "execution_count": 59,
   "metadata": {
    "collapsed": true
   },
   "outputs": [],
   "source": [
    "dfMovies.to_csv(direct+'\\Q4_Part_1.csv',index = False, sep=',')"
   ]
  },
  {
   "cell_type": "code",
   "execution_count": null,
   "metadata": {
    "collapsed": true
   },
   "outputs": [],
   "source": []
  }
 ],
 "metadata": {
  "anaconda-cloud": {},
  "kernelspec": {
   "display_name": "Python [default]",
   "language": "python",
   "name": "python3"
  },
  "language_info": {
   "codemirror_mode": {
    "name": "ipython",
    "version": 3
   },
   "file_extension": ".py",
   "mimetype": "text/x-python",
   "name": "python",
   "nbconvert_exporter": "python",
   "pygments_lexer": "ipython3",
   "version": "3.5.2"
  }
 },
 "nbformat": 4,
 "nbformat_minor": 2
}
