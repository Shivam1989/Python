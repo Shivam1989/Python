{
 "cells": [
  {
   "cell_type": "code",
   "execution_count": 1,
   "metadata": {
    "collapsed": true
   },
   "outputs": [],
   "source": [
    "#Importing Packages\n",
    "import os\n",
    "import pandas as pd"
   ]
  },
  {
   "cell_type": "code",
   "execution_count": 3,
   "metadata": {
    "collapsed": false
   },
   "outputs": [
    {
     "data": {
      "text/html": [
       "<div>\n",
       "<table border=\"1\" class=\"dataframe\">\n",
       "  <thead>\n",
       "    <tr style=\"text-align: right;\">\n",
       "      <th></th>\n",
       "      <th>UNIQUE KEY</th>\n",
       "      <th>DATE</th>\n",
       "      <th>BOROUGH</th>\n",
       "    </tr>\n",
       "  </thead>\n",
       "  <tbody>\n",
       "    <tr>\n",
       "      <th>0</th>\n",
       "      <td>3146911</td>\n",
       "      <td>2015-01-01</td>\n",
       "      <td>QUEENS</td>\n",
       "    </tr>\n",
       "    <tr>\n",
       "      <th>1</th>\n",
       "      <td>3146180</td>\n",
       "      <td>2015-01-01</td>\n",
       "      <td>NaN</td>\n",
       "    </tr>\n",
       "    <tr>\n",
       "      <th>2</th>\n",
       "      <td>3146384</td>\n",
       "      <td>2015-01-01</td>\n",
       "      <td>BROOKLYN</td>\n",
       "    </tr>\n",
       "    <tr>\n",
       "      <th>3</th>\n",
       "      <td>3146013</td>\n",
       "      <td>2015-01-01</td>\n",
       "      <td>BROOKLYN</td>\n",
       "    </tr>\n",
       "    <tr>\n",
       "      <th>4</th>\n",
       "      <td>3146120</td>\n",
       "      <td>2015-01-01</td>\n",
       "      <td>NaN</td>\n",
       "    </tr>\n",
       "  </tbody>\n",
       "</table>\n",
       "</div>"
      ],
      "text/plain": [
       "   UNIQUE KEY       DATE   BOROUGH\n",
       "0     3146911 2015-01-01    QUEENS\n",
       "1     3146180 2015-01-01       NaN\n",
       "2     3146384 2015-01-01  BROOKLYN\n",
       "3     3146013 2015-01-01  BROOKLYN\n",
       "4     3146120 2015-01-01       NaN"
      ]
     },
     "execution_count": 3,
     "metadata": {},
     "output_type": "execute_result"
    }
   ],
   "source": [
    "# get current working directory\n",
    "direct = os.getcwd()\n",
    "\n",
    "# read csv file from location\n",
    "df = pd.read_csv(direct+\"/\"+\"Assignment 3/vehicle_collisions.csv\", parse_dates=['DATE'], usecols=[0,1,3])\n",
    "df.head()"
   ]
  },
  {
   "cell_type": "code",
   "execution_count": 8,
   "metadata": {
    "collapsed": true
   },
   "outputs": [],
   "source": [
    "# Offsetting the warning\n",
    "pd.options.mode.chained_assignment = None\n",
    "# Now task is to filter all date for the year 2016\n",
    "Year = df[df.DATE.dt.year == 2016]\n"
   ]
  },
  {
   "cell_type": "code",
   "execution_count": 14,
   "metadata": {
    "collapsed": false
   },
   "outputs": [],
   "source": [
    "Year['Month'] = Year['DATE'].dt.strftime('%b')\n",
    "NY = Year['UNIQUE KEY'].groupby(Year['Month']).count()"
   ]
  },
  {
   "cell_type": "code",
   "execution_count": 17,
   "metadata": {
    "collapsed": false
   },
   "outputs": [],
   "source": [
    "NY.index = pd.CategoricalIndex(NY.index, \n",
    "                               categories=['Jan', 'Feb', 'Mar', 'Apr','May','Jun', 'Jul', 'Aug','Sep', 'Oct', 'Nov', 'Dec'], \n",
    "                               sorted=True)\n",
    "NY = NY.sort_index()\n",
    "Manhattan = Year['UNIQUE KEY'][Year['BOROUGH'] == \"MANHATTAN\"].groupby(Year['Month']).count()\n",
    "Manhattan.index = pd.CategoricalIndex(Manhattan.index, \n",
    "                               categories=['Jan', 'Feb', 'Mar', 'Apr','May','Jun', 'Jul', 'Aug','Sep', 'Oct', 'Nov', 'Dec'], \n",
    "                               sorted=True)\n",
    "Manhattan = Manhattan.sort_index()"
   ]
  },
  {
   "cell_type": "code",
   "execution_count": 19,
   "metadata": {
    "collapsed": false
   },
   "outputs": [],
   "source": [
    "# Create new Data frame \n",
    "Columns = [\"Month\", \"Manhattan\", \"NYC\", \"Percentage\"]\n",
    "dataFrame = pd.DataFrame({'Month' : NYC.index, 'Manhattan' : Manhattan, 'NYC' : NYC, 'Percentage' : Manhattan / NYC})\n",
    "\n"
   ]
  },
  {
   "cell_type": "code",
   "execution_count": 21,
   "metadata": {
    "collapsed": false
   },
   "outputs": [],
   "source": [
    "def CheckDir(path):\n",
    "    # defining directory path\n",
    "    directory = os.path.dirname(path)\n",
    "    # checking if directory already exists\n",
    "    if not os.path.exists(directory):\n",
    "        # making a directory\n",
    "        os.makedirs(directory) \n",
    "        \n",
    "Path = direct+'\\Q1_Part_1.csv'\n",
    "CheckDir(Path)\n",
    "\n",
    "# Saving our dataFrame to csv file.\n",
    "dataFrame[Columns].to_csv(Path, index=False, encoding='utf-8')"
   ]
  },
  {
   "cell_type": "code",
   "execution_count": null,
   "metadata": {
    "collapsed": true
   },
   "outputs": [],
   "source": []
  }
 ],
 "metadata": {
  "kernelspec": {
   "display_name": "Python [default]",
   "language": "python",
   "name": "python3"
  },
  "language_info": {
   "codemirror_mode": {
    "name": "ipython",
    "version": 3
   },
   "file_extension": ".py",
   "mimetype": "text/x-python",
   "name": "python",
   "nbconvert_exporter": "python",
   "pygments_lexer": "ipython3",
   "version": "3.5.2"
  }
 },
 "nbformat": 4,
 "nbformat_minor": 2
}
