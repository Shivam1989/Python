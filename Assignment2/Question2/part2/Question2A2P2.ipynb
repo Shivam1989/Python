{
 "cells": [
  {
   "cell_type": "markdown",
   "metadata": {},
   "source": [
    "# Part 2\n",
    "\n",
    "# Read the json files which contains the key called \"Restaurant\"\n",
    "# Extract information of timining of each day of restaurant and store it in the excel\n",
    "# Bonus if you split the time in hours and minutes\n",
    "# Sorted the Excel based on Country code\n"
   ]
  },
  {
   "cell_type": "code",
   "execution_count": 89,
   "metadata": {
    "collapsed": false
   },
   "outputs": [
    {
     "name": "stdout",
     "output_type": "stream",
     "text": [
      "Enter the Working Directory path in your system/Users/shivamgoel/Desktop/Python/Spandan/\n"
     ]
    }
   ],
   "source": [
    "#Importing Package OS\n",
    "\n",
    "import os\n",
    "\n",
    "#Setting  the Working Directory so that we dont have to change everytime.We can use input to take input in comand line\n",
    "\n",
    "dirname=input(\"Enter the Working Directory path in your system\")\n",
    "\n",
    "direc = os.chdir(dirname) # Set current working directory\n",
    "direc = os.getcwd() # Get current working directory\n",
    "file_list=os.listdir(dirname)\n"
   ]
  },
  {
   "cell_type": "code",
   "execution_count": 47,
   "metadata": {
    "collapsed": false
   },
   "outputs": [],
   "source": [
    "#Importing Json Package to Read Json data and glob to read paths\n",
    "import json\n",
    "from glob import glob \n",
    "opentime=[] #to store opentime of restaurants\n",
    "terms=[]#to store all the terms to filter out the restaurant term from all the terms \n",
    "city=[] #to find the city in which restaurant is located\n",
    "country=[]#to find the country in which restaurant is located\n",
    "restaurent=[]#to find the name of restaurant \n",
    "set_unique=()#find unique list of terms\n",
    "for file in range(len(file_list)):\n",
    "    config = json.loads(open(file_list[file]).read())\n",
    "    terms.append((config[\"term\"]))\n",
    "set_unique=set(terms)\n",
    "terms=list(set_unique)# Unique list of terms\n"
   ]
  },
  {
   "cell_type": "code",
   "execution_count": 66,
   "metadata": {
    "collapsed": false
   },
   "outputs": [],
   "source": [
    "#Importing CSV and datetime package to write to csv and split date and time\n",
    "import csv\n",
    "import datetime\n",
    "with open('Restaurant.csv', 'w') as csvfile:#Opening csv file\n",
    "    writer = csv.writer(csvfile)\n",
    "    writer.writerow(['Name of Restaurants','City','Country Code','Day of Week','Start time(hour)','Start time(mins)','End time(hour)','End time(mins)'])#Writing headers of csv\n",
    "    for filename in glob('*.json'):    #Reading all the json files                       \n",
    "        with open(filename) as r:                               \n",
    "            json_data = json.load(r)\n",
    "            trm = json_data['term']\n",
    "            if trm==terms[2]:#Checking if the term equals restaurant.we can even hardcode to check here\n",
    "                if 'hours' in json_data :\n",
    "                    for i in range(len(json_data['hours'][0]['open'])):\n",
    "                        city.append(json_data[\"location\"][\"city\"])\n",
    "                        opentime.append(json_data['hours'][0]['open'])#Storing the time\n",
    "                        restaurent.append(json_data['name'])#Storing name\n",
    "                        morning_start=json_data['hours'][0]['open'][i]['start']#Start time\n",
    "                        ms_date=datetime.datetime.strptime(morning_start,'%H%M')\n",
    "                        mornign_end=json_data['hours'][0]['open'][i]['end']\n",
    "                        me_date=datetime.datetime.strptime(mornign_end,'%H%M')\n",
    "                        #Writing rows to  csv file\n",
    "                        writer.writerow([json_data['name'],json_data['location']['city'],json_data['location']['country'],json_data['hours'][0]['open'][i]['day'],ms_date.hour,ms_date.minute,me_date.hour,me_date.minute])"
   ]
  },
  {
   "cell_type": "markdown",
   "metadata": {},
   "source": [
    "# Splitted the time in  excel in hours and minutes and also sorted it based on country code"
   ]
  },
  {
   "cell_type": "code",
   "execution_count": 85,
   "metadata": {
    "collapsed": false
   },
   "outputs": [],
   "source": [
    "#Importing Pandas to Sort CSV by Country Code\n",
    "df = pd.read_csv('Restaurant.csv', sep = ',')\n",
    "df = df.sort_values('Country Code')\n",
    "df.to_csv('Restaurant_sorted.csv', index=False)"
   ]
  },
  {
   "cell_type": "code",
   "execution_count": null,
   "metadata": {
    "collapsed": true
   },
   "outputs": [],
   "source": []
  }
 ],
 "metadata": {
  "kernelspec": {
   "display_name": "Python [default]",
   "language": "python",
   "name": "python3"
  },
  "language_info": {
   "codemirror_mode": {
    "name": "ipython",
    "version": 3
   },
   "file_extension": ".py",
   "mimetype": "text/x-python",
   "name": "python",
   "nbconvert_exporter": "python",
   "pygments_lexer": "ipython3",
   "version": "3.5.2"
  }
 },
 "nbformat": 4,
 "nbformat_minor": 1
}
