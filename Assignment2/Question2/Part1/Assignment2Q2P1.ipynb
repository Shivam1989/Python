{
 "cells": [
  {
   "cell_type": "markdown",
   "metadata": {
    "collapsed": false
   },
   "source": [
    "# Part 1\n",
    "# Read all json files and group them together based on common terms\n",
    "# create hierarchy of subfolders such that Country/City/Term\n",
    "# Store the above hierarchy in root folder named data processed\n"
   ]
  },
  {
   "cell_type": "code",
   "execution_count": 19,
   "metadata": {
    "collapsed": false
   },
   "outputs": [
    {
     "data": {
      "text/plain": [
       "11729"
      ]
     },
     "execution_count": 19,
     "metadata": {},
     "output_type": "execute_result"
    }
   ],
   "source": [
    "import os\n",
    "dirname=\"/Users/shivamgoel/Desktop/Python/Spandan/Data/\"\n",
    "#dirname=input(\"Enter the Working Directory path in your system\")#We can also take input for the location of directory\n",
    "direc = os.chdir(dirname) # Set current working directory\n",
    "direc = os.getcwd() # Get current working directory\n",
    "file_list=os.listdir(dirname)\n",
    "len(file_list)"
   ]
  },
  {
   "cell_type": "code",
   "execution_count": 12,
   "metadata": {
    "collapsed": false
   },
   "outputs": [
    {
     "name": "stdout",
     "output_type": "stream",
     "text": [
      "Enter the PathData Processed\n"
     ]
    },
    {
     "data": {
      "text/plain": [
       "'/Users/shivamgoel/Desktop/Python/Spandan/Data'"
      ]
     },
     "execution_count": 12,
     "metadata": {},
     "output_type": "execute_result"
    }
   ],
   "source": [
    "#Creating function defination to create path if not present and used to create folder inside path\n",
    "def createFolders(path):                                         \n",
    "    if not os.path.exists(path):                             \n",
    "        os.makedirs(path)                                                          \n",
    "root_path =input(\"Enter the Path\") #Input the folder name in our case it is #Data Processed           \n",
    "createFolders(root_path) \n",
    "os.getcwd()"
   ]
  },
  {
   "cell_type": "code",
   "execution_count": 13,
   "metadata": {
    "collapsed": false
   },
   "outputs": [],
   "source": [
    "#Importing Json\n",
    "import json\n",
    "#os.chdir(direc)#Changing directory to root directory to read the json files where located\n",
    "country = []#List of countries\n",
    "terms = []#List of terms\n",
    "city=[]# List of city\n",
    "set_unique=() # Creating a set to get the unique value\n",
    "i=len(country) \n",
    "#Looping through the list of files in folder\n",
    "for file in range(len(file_list)):\n",
    "    config = json.loads(open(file_list[file]).read())\n",
    "    terms.append((config[\"term\"]))\n",
    "    if config[\"location\"][\"country\"] not in country:             \n",
    "        country.append(config[\"location\"][\"country\"])\n",
    "        createFolders(root_path+'/'+config[\"location\"][\"country\"])#Creating the folders for the country insd\n",
    "set_unique=set(terms)\n",
    "terms=list(set_unique)#Getting the unique terms and assigning back to list\n"
   ]
  },
  {
   "cell_type": "code",
   "execution_count": 14,
   "metadata": {
    "collapsed": false,
    "scrolled": true
   },
   "outputs": [],
   "source": [
    "#creating subfolders for states in countries\n",
    "#Creating hierarchy\n",
    "for i in range(0,len(country)):                            \n",
    "    city=[]\n",
    "    for file in range(len(file_list)):\n",
    "        config = json.loads(open(file_list[file]).read())\n",
    "        if config[\"location\"][\"country\"]==country[i]:#Checking if location exist in country\n",
    "            if config[\"location\"][\"city\"] not in city:#checking if location exist in city\n",
    "                 city.append(config[\"location\"][\"city\"])\n",
    "    for cityname in city: \n",
    "        #Creating folders for all the terms \n",
    "        createFolders(root_path+'/'+country[i]+'/'+cityname+'/'+terms[0])\n",
    "        createFolders(root_path+'/'+country[i]+'/'+cityname+'/'+terms[1])\n",
    "        createFolders(root_path+'/'+country[i]+'/'+cityname+'/'+terms[2])\n",
    "       \n",
    "    \n",
    "    "
   ]
  },
  {
   "cell_type": "code",
   "execution_count": 18,
   "metadata": {
    "collapsed": false
   },
   "outputs": [],
   "source": [
    "#Importing shutil to copy file\n",
    "from shutil import copyfile\n",
    "from glob import glob \n",
    "os.chdir(\"/Users/shivamgoel/Desktop/Python/Spandan/\")\n",
    "#Looping to read all json  files in folder\n",
    "for filename in glob('data/*.json'):                           \n",
    "        with open(filename) as r:                               \n",
    "            json_data = json.load(r)\n",
    "            location = json_data['location']\n",
    "            contry = location['country']\n",
    "            cty = location['city']\n",
    "            trm = json_data['term']\n",
    "            #Creating hierarchy to group file based on term\n",
    "            if trm==terms[0]:#Creating hierarchy to group file based on terms\n",
    "                copyfile('data/'+filename[5:],'data/'+root_path+'/'+contry+'/'+cty+'/'+trm+'/'+filename[5:])\n",
    "            elif trm==terms[1]:\n",
    "                copyfile('data/'+filename[5:],'data/'+root_path+'/'+contry+'/'+cty+'/'+trm+'/'+filename[5:])\n",
    "            elif trm==terms[2]:\n",
    "                copyfile('data/'+filename[5:],'data/'+root_path+'/'+contry+'/'+cty+'/'+trm+'/'+filename[5:])"
   ]
  },
  {
   "cell_type": "code",
   "execution_count": null,
   "metadata": {
    "collapsed": true
   },
   "outputs": [],
   "source": []
  }
 ],
 "metadata": {
  "anaconda-cloud": {},
  "kernelspec": {
   "display_name": "Python [default]",
   "language": "python",
   "name": "python3"
  },
  "language_info": {
   "codemirror_mode": {
    "name": "ipython",
    "version": 3
   },
   "file_extension": ".py",
   "mimetype": "text/x-python",
   "name": "python",
   "nbconvert_exporter": "python",
   "pygments_lexer": "ipython3",
   "version": "3.5.2"
  }
 },
 "nbformat": 4,
 "nbformat_minor": 1
}
